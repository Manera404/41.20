{
 "cells": [
  {
   "cell_type": "markdown",
   "metadata": {},
   "source": [
    "## Задача: Собрать датасет, проанализировать рынок конкретной отрасли, посчитать метрику и сделать вывод.\n",
    "Отрасль будет 41.20 Строительство жилых и нежилых зданий. Данные сначала возьму из [ФНС](https://api-fns.ru/api/search), где через API узнаю ИНН, ОГНР и прочую информацию. Затем на этом [сайте](https://bo.nalog.ru/) спаршу финансовую информацию и начну анализировать. В анализе также буду использовать geopandas и нанесу топ500 компаний по выручке на карту. Ну и чтобы потренить GitGub буду коммитить в ходе выполнения работы."
   ]
  },
  {
   "cell_type": "markdown",
   "metadata": {},
   "source": [
    "Начнем c ознакомлением API от ФНС. На данном [сайте](https://api-fns.ru/api_help#collapse2) инструкция по обращению к БД. Зарегался, получил свой токен и начинаю делать запросы. Меня интересуют юридические лица, среднее и малые предприятия, в видах деятельности указывайте 41.20 Строительство жилых и нежилых зданий."
   ]
  },
  {
   "cell_type": "code",
   "execution_count": null,
   "metadata": {},
   "outputs": [],
   "source": [
    "import test"
   ]
  },
  {
   "cell_type": "code",
   "execution_count": null,
   "metadata": {},
   "outputs": [],
   "source": []
  },
  {
   "cell_type": "code",
   "execution_count": null,
   "metadata": {},
   "outputs": [],
   "source": []
  }
 ],
 "metadata": {
  "kernelspec": {
   "display_name": "Main",
   "language": "python",
   "name": "python3"
  },
  "language_info": {
   "codemirror_mode": {
    "name": "ipython",
    "version": 3
   },
   "file_extension": ".py",
   "mimetype": "text/x-python",
   "name": "python",
   "nbconvert_exporter": "python",
   "pygments_lexer": "ipython3",
   "version": "3.12.9"
  }
 },
 "nbformat": 4,
 "nbformat_minor": 2
}
